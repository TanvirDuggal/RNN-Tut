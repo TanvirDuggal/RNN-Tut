{
 "cells": [
  {
   "cell_type": "code",
   "execution_count": 116,
   "metadata": {},
   "outputs": [],
   "source": [
    "import pandas as pd\n",
    "import numpy as np\n",
    "import matplotlib.pyplot as plt"
   ]
  },
  {
   "cell_type": "code",
   "execution_count": 117,
   "metadata": {
    "scrolled": false
   },
   "outputs": [],
   "source": [
    "import keras\n",
    "from keras.models import Sequential\n",
    "from keras.layers import Dense\n",
    "from keras.layers import LSTM\n",
    "from keras.layers import Dropout"
   ]
  },
  {
   "cell_type": "code",
   "execution_count": 118,
   "metadata": {},
   "outputs": [],
   "source": [
    "import sklearn\n",
    "from sklearn.preprocessing import MinMaxScaler"
   ]
  },
  {
   "cell_type": "code",
   "execution_count": 119,
   "metadata": {},
   "outputs": [],
   "source": [
    "files           = ['crypto_data/BCH-USD.csv', 'crypto_data/BTC-USD.csv', 'crypto_data/ETH-USD.csv', 'crypto_data/LTC-USD.csv']"
   ]
  },
  {
   "cell_type": "code",
   "execution_count": 120,
   "metadata": {},
   "outputs": [],
   "source": [
    "f = []\n",
    "for file in files:\n",
    "    df         = pd.read_csv(file)\n",
    "    df.columns = ['time','open','high','low','close','volumn']\n",
    "    f.append(df)"
   ]
  },
  {
   "cell_type": "code",
   "execution_count": 121,
   "metadata": {},
   "outputs": [],
   "source": [
    "main_df = pd.concat(f)"
   ]
  },
  {
   "cell_type": "code",
   "execution_count": 122,
   "metadata": {},
   "outputs": [
    {
     "data": {
      "text/plain": [
       "(394659, 6)"
      ]
     },
     "execution_count": 122,
     "metadata": {},
     "output_type": "execute_result"
    }
   ],
   "source": [
    "main_df.shape"
   ]
  },
  {
   "cell_type": "code",
   "execution_count": 123,
   "metadata": {},
   "outputs": [
    {
     "data": {
      "text/html": [
       "<div>\n",
       "<style scoped>\n",
       "    .dataframe tbody tr th:only-of-type {\n",
       "        vertical-align: middle;\n",
       "    }\n",
       "\n",
       "    .dataframe tbody tr th {\n",
       "        vertical-align: top;\n",
       "    }\n",
       "\n",
       "    .dataframe thead th {\n",
       "        text-align: right;\n",
       "    }\n",
       "</style>\n",
       "<table border=\"1\" class=\"dataframe\">\n",
       "  <thead>\n",
       "    <tr style=\"text-align: right;\">\n",
       "      <th></th>\n",
       "      <th>time</th>\n",
       "      <th>open</th>\n",
       "      <th>high</th>\n",
       "      <th>low</th>\n",
       "      <th>close</th>\n",
       "      <th>volumn</th>\n",
       "    </tr>\n",
       "  </thead>\n",
       "  <tbody>\n",
       "    <tr>\n",
       "      <td>0</td>\n",
       "      <td>1528968720</td>\n",
       "      <td>870.859985</td>\n",
       "      <td>871.719971</td>\n",
       "      <td>871.719971</td>\n",
       "      <td>870.859985</td>\n",
       "      <td>26.856577</td>\n",
       "    </tr>\n",
       "    <tr>\n",
       "      <td>1</td>\n",
       "      <td>1528968780</td>\n",
       "      <td>870.099976</td>\n",
       "      <td>871.090027</td>\n",
       "      <td>871.090027</td>\n",
       "      <td>870.099976</td>\n",
       "      <td>1.124300</td>\n",
       "    </tr>\n",
       "    <tr>\n",
       "      <td>2</td>\n",
       "      <td>1528968840</td>\n",
       "      <td>868.830017</td>\n",
       "      <td>870.950012</td>\n",
       "      <td>868.830017</td>\n",
       "      <td>870.789978</td>\n",
       "      <td>1.749862</td>\n",
       "    </tr>\n",
       "    <tr>\n",
       "      <td>3</td>\n",
       "      <td>1528968900</td>\n",
       "      <td>870.000000</td>\n",
       "      <td>870.000000</td>\n",
       "      <td>870.000000</td>\n",
       "      <td>870.000000</td>\n",
       "      <td>1.680500</td>\n",
       "    </tr>\n",
       "    <tr>\n",
       "      <td>4</td>\n",
       "      <td>1528968960</td>\n",
       "      <td>869.989990</td>\n",
       "      <td>870.000000</td>\n",
       "      <td>870.000000</td>\n",
       "      <td>869.989990</td>\n",
       "      <td>1.669014</td>\n",
       "    </tr>\n",
       "  </tbody>\n",
       "</table>\n",
       "</div>"
      ],
      "text/plain": [
       "         time        open        high         low       close     volumn\n",
       "0  1528968720  870.859985  871.719971  871.719971  870.859985  26.856577\n",
       "1  1528968780  870.099976  871.090027  871.090027  870.099976   1.124300\n",
       "2  1528968840  868.830017  870.950012  868.830017  870.789978   1.749862\n",
       "3  1528968900  870.000000  870.000000  870.000000  870.000000   1.680500\n",
       "4  1528968960  869.989990  870.000000  870.000000  869.989990   1.669014"
      ]
     },
     "execution_count": 123,
     "metadata": {},
     "output_type": "execute_result"
    }
   ],
   "source": [
    "main_df.head()"
   ]
  },
  {
   "cell_type": "code",
   "execution_count": 124,
   "metadata": {},
   "outputs": [
    {
     "data": {
      "text/plain": [
       "array([[870.859985],\n",
       "       [870.099976],\n",
       "       [870.789978],\n",
       "       ...,\n",
       "       [ 58.02    ],\n",
       "       [ 58.080002],\n",
       "       [ 58.09    ]])"
      ]
     },
     "execution_count": 124,
     "metadata": {},
     "output_type": "execute_result"
    }
   ],
   "source": [
    "close = main_df.iloc[:, 4:5].values\n",
    "close"
   ]
  },
  {
   "cell_type": "code",
   "execution_count": 125,
   "metadata": {},
   "outputs": [
    {
     "data": {
      "text/plain": [
       "(394659, 1)"
      ]
     },
     "execution_count": 125,
     "metadata": {},
     "output_type": "execute_result"
    }
   ],
   "source": [
    "close.shape"
   ]
  },
  {
   "cell_type": "code",
   "execution_count": 126,
   "metadata": {},
   "outputs": [
    {
     "data": {
      "text/plain": [
       "60"
      ]
     },
     "execution_count": 126,
     "metadata": {},
     "output_type": "execute_result"
    }
   ],
   "source": [
    "394659 - 394599"
   ]
  },
  {
   "cell_type": "code",
   "execution_count": 127,
   "metadata": {},
   "outputs": [],
   "source": [
    "sc = MinMaxScaler()\n",
    "close = sc.fit_transform(close)"
   ]
  },
  {
   "cell_type": "code",
   "execution_count": null,
   "metadata": {},
   "outputs": [],
   "source": []
  },
  {
   "cell_type": "code",
   "execution_count": 128,
   "metadata": {},
   "outputs": [
    {
     "data": {
      "text/plain": [
       "(394659, 1)"
      ]
     },
     "execution_count": 128,
     "metadata": {},
     "output_type": "execute_result"
    }
   ],
   "source": [
    "close.shape"
   ]
  },
  {
   "cell_type": "code",
   "execution_count": 129,
   "metadata": {},
   "outputs": [],
   "source": [
    "X = []"
   ]
  },
  {
   "cell_type": "code",
   "execution_count": 130,
   "metadata": {},
   "outputs": [],
   "source": [
    "for rate in range(60, len(close)):\n",
    "    X.append(close[rate-60:rate])"
   ]
  },
  {
   "cell_type": "code",
   "execution_count": 131,
   "metadata": {},
   "outputs": [],
   "source": [
    "X = np.array(X)"
   ]
  },
  {
   "cell_type": "code",
   "execution_count": 132,
   "metadata": {},
   "outputs": [
    {
     "data": {
      "text/plain": [
       "(394599, 60, 1)"
      ]
     },
     "execution_count": 132,
     "metadata": {},
     "output_type": "execute_result"
    }
   ],
   "source": [
    "X.shape"
   ]
  },
  {
   "cell_type": "code",
   "execution_count": 133,
   "metadata": {},
   "outputs": [
    {
     "data": {
      "text/plain": [
       "(394599, 1)"
      ]
     },
     "execution_count": 133,
     "metadata": {},
     "output_type": "execute_result"
    }
   ],
   "source": [
    "close = close[60:]\n",
    "close.shape"
   ]
  },
  {
   "cell_type": "code",
   "execution_count": 134,
   "metadata": {},
   "outputs": [],
   "source": [
    "model = Sequential()"
   ]
  },
  {
   "cell_type": "code",
   "execution_count": 135,
   "metadata": {},
   "outputs": [],
   "source": [
    "model.add(LSTM(units=60, return_sequences=True, input_shape=(60,1)))\n",
    "model.add(Dropout(0.2))\n",
    "\n",
    "model.add(LSTM(units=60, return_sequences=True))\n",
    "model.add(Dropout(0.2))\n",
    "\n",
    "model.add(LSTM(units=60))\n",
    "model.add(Dropout(0.2))\n",
    "\n",
    "model.add(Dense(units=60))\n",
    "model.add(Dropout(0.2))\n",
    "\n",
    "model.add(Dense(units=1))\n",
    "model.add(Dropout(0.2))\n",
    "\n",
    "model.compile(optimizer='adam', loss='mean_squared_error')"
   ]
  },
  {
   "cell_type": "code",
   "execution_count": null,
   "metadata": {},
   "outputs": [
    {
     "name": "stdout",
     "output_type": "stream",
     "text": [
      "Epoch 1/100\n",
      "394599/394599 [==============================] - 1613s 4ms/step - loss: 0.0334\n",
      "Epoch 2/100\n",
      "394599/394599 [==============================] - 1605s 4ms/step - loss: 0.0332\n",
      "Epoch 3/100\n",
      "394599/394599 [==============================] - 1605s 4ms/step - loss: 0.0330\n",
      "Epoch 4/100\n",
      "394599/394599 [==============================] - 1623s 4ms/step - loss: 0.0335\n",
      "Epoch 5/100\n",
      "394599/394599 [==============================] - 1617s 4ms/step - loss: 0.0332\n",
      "Epoch 6/100\n",
      "394599/394599 [==============================] - 1621s 4ms/step - loss: 0.0328\n",
      "Epoch 7/100\n",
      "394599/394599 [==============================] - 1625s 4ms/step - loss: 0.0327\n",
      "Epoch 8/100\n",
      "394599/394599 [==============================] - 1619s 4ms/step - loss: 0.0330\n",
      "Epoch 9/100\n",
      "394599/394599 [==============================] - 1632s 4ms/step - loss: 0.0333\n",
      "Epoch 10/100\n",
      "394599/394599 [==============================] - 1632s 4ms/step - loss: 0.0330\n",
      "Epoch 11/100\n",
      "394599/394599 [==============================] - 1629s 4ms/step - loss: 0.0330\n",
      "Epoch 12/100\n",
      "394599/394599 [==============================] - 1635s 4ms/step - loss: 0.0332\n",
      "Epoch 13/100\n",
      "394599/394599 [==============================] - 1637s 4ms/step - loss: 0.0331\n",
      "Epoch 14/100\n",
      "394599/394599 [==============================] - 1644s 4ms/step - loss: 0.0333\n",
      "Epoch 15/100\n",
      "394599/394599 [==============================] - 1649s 4ms/step - loss: 0.0330\n",
      "Epoch 16/100\n",
      "394599/394599 [==============================] - 1636s 4ms/step - loss: 0.0328\n",
      "Epoch 17/100\n",
      "394599/394599 [==============================] - 1645s 4ms/step - loss: 0.0331\n",
      "Epoch 18/100\n",
      "394599/394599 [==============================] - 1646s 4ms/step - loss: 0.0330\n",
      "Epoch 19/100\n",
      "394599/394599 [==============================] - 1654s 4ms/step - loss: 0.0331\n",
      "Epoch 20/100\n",
      "394599/394599 [==============================] - 1650s 4ms/step - loss: 0.0325\n",
      "Epoch 21/100\n",
      "394599/394599 [==============================] - 1657s 4ms/step - loss: 0.0333\n",
      "Epoch 22/100\n",
      "394599/394599 [==============================] - 1661s 4ms/step - loss: 0.0330\n",
      "Epoch 23/100\n",
      "394599/394599 [==============================] - 1656s 4ms/step - loss: 0.0332\n",
      "Epoch 24/100\n",
      "394599/394599 [==============================] - 1656s 4ms/step - loss: 0.0331\n",
      "Epoch 25/100\n",
      "394599/394599 [==============================] - 1658s 4ms/step - loss: 0.0328\n",
      "Epoch 26/100\n",
      "394599/394599 [==============================] - 1647s 4ms/step - loss: 0.0327\n",
      "Epoch 27/100\n",
      "394599/394599 [==============================] - 1636s 4ms/step - loss: 0.0328\n",
      "Epoch 28/100\n",
      "394599/394599 [==============================] - 1633s 4ms/step - loss: 0.0331\n",
      "Epoch 29/100\n",
      "394599/394599 [==============================] - 1816s 5ms/step - loss: 0.0332\n",
      "Epoch 30/100\n",
      "394599/394599 [==============================] - 1653s 4ms/step - loss: 0.0329\n",
      "Epoch 31/100\n",
      "394599/394599 [==============================] - 1649s 4ms/step - loss: 0.0330\n",
      "Epoch 32/100\n",
      "394599/394599 [==============================] - 1660s 4ms/step - loss: 0.0328\n",
      "Epoch 33/100\n",
      "394599/394599 [==============================] - 1649s 4ms/step - loss: 0.0333\n",
      "Epoch 34/100\n",
      "394599/394599 [==============================] - 1660s 4ms/step - loss: 0.0329\n",
      "Epoch 35/100\n",
      "394599/394599 [==============================] - 1656s 4ms/step - loss: 0.0329\n",
      "Epoch 36/100\n",
      "394599/394599 [==============================] - 1661s 4ms/step - loss: 0.0330\n",
      "Epoch 37/100\n",
      "394599/394599 [==============================] - 1656s 4ms/step - loss: 0.0331\n",
      "Epoch 38/100\n",
      "394599/394599 [==============================] - 1664s 4ms/step - loss: 0.0327\n",
      "Epoch 39/100\n",
      "394599/394599 [==============================] - 1660s 4ms/step - loss: 0.0331\n",
      "Epoch 40/100\n",
      "394599/394599 [==============================] - 1663s 4ms/step - loss: 0.0331\n",
      "Epoch 41/100\n",
      "394599/394599 [==============================] - 1666s 4ms/step - loss: 0.0332\n",
      "Epoch 42/100\n",
      "394599/394599 [==============================] - 1662s 4ms/step - loss: 0.0329\n",
      "Epoch 43/100\n",
      "394599/394599 [==============================] - 1663s 4ms/step - loss: 0.0332\n",
      "Epoch 44/100\n",
      "394599/394599 [==============================] - 1658s 4ms/step - loss: 0.0327\n",
      "Epoch 45/100\n",
      "394599/394599 [==============================] - 1660s 4ms/step - loss: 0.0330\n",
      "Epoch 46/100\n",
      "394599/394599 [==============================] - 1664s 4ms/step - loss: 0.0330\n",
      "Epoch 47/100\n",
      "394599/394599 [==============================] - 1671s 4ms/step - loss: 0.0326\n",
      "Epoch 48/100\n",
      "394599/394599 [==============================] - 1675s 4ms/step - loss: 0.0329\n",
      "Epoch 49/100\n",
      "367488/394599 [==========================>...] - ETA: 1:55 - loss: 0.0328"
     ]
    }
   ],
   "source": [
    "model.fit(X, close, epochs=100, batch_size=32)"
   ]
  },
  {
   "cell_type": "code",
   "execution_count": 67,
   "metadata": {},
   "outputs": [
    {
     "data": {
      "text/plain": [
       "(394659, 1)"
      ]
     },
     "execution_count": 67,
     "metadata": {},
     "output_type": "execute_result"
    }
   ],
   "source": []
  },
  {
   "cell_type": "code",
   "execution_count": 68,
   "metadata": {},
   "outputs": [
    {
     "data": {
      "text/plain": [
       "(394599, 60, 1)"
      ]
     },
     "execution_count": 68,
     "metadata": {},
     "output_type": "execute_result"
    }
   ],
   "source": []
  },
  {
   "cell_type": "code",
   "execution_count": 69,
   "metadata": {},
   "outputs": [
    {
     "data": {
      "text/plain": [
       "60"
      ]
     },
     "execution_count": 69,
     "metadata": {},
     "output_type": "execute_result"
    }
   ],
   "source": []
  },
  {
   "cell_type": "code",
   "execution_count": 70,
   "metadata": {},
   "outputs": [],
   "source": []
  },
  {
   "cell_type": "code",
   "execution_count": 71,
   "metadata": {},
   "outputs": [
    {
     "data": {
      "text/plain": [
       "[3, 4, 5, 6, 7, 8, 9]"
      ]
     },
     "execution_count": 71,
     "metadata": {},
     "output_type": "execute_result"
    }
   ],
   "source": []
  },
  {
   "cell_type": "code",
   "execution_count": 72,
   "metadata": {},
   "outputs": [],
   "source": []
  },
  {
   "cell_type": "code",
   "execution_count": 73,
   "metadata": {},
   "outputs": [
    {
     "data": {
      "text/plain": [
       "[77, 89, 34, 4, 78, 8]"
      ]
     },
     "execution_count": 73,
     "metadata": {},
     "output_type": "execute_result"
    }
   ],
   "source": []
  },
  {
   "cell_type": "code",
   "execution_count": 89,
   "metadata": {},
   "outputs": [
    {
     "data": {
      "text/plain": [
       "(394659, 1)"
      ]
     },
     "execution_count": 89,
     "metadata": {},
     "output_type": "execute_result"
    }
   ],
   "source": []
  },
  {
   "cell_type": "code",
   "execution_count": 90,
   "metadata": {},
   "outputs": [],
   "source": []
  },
  {
   "cell_type": "code",
   "execution_count": 91,
   "metadata": {},
   "outputs": [
    {
     "data": {
      "text/plain": [
       "(394599, 1)"
      ]
     },
     "execution_count": 91,
     "metadata": {},
     "output_type": "execute_result"
    }
   ],
   "source": []
  },
  {
   "cell_type": "code",
   "execution_count": 92,
   "metadata": {},
   "outputs": [
    {
     "data": {
      "text/plain": [
       "(394599, 60, 1)"
      ]
     },
     "execution_count": 92,
     "metadata": {},
     "output_type": "execute_result"
    }
   ],
   "source": []
  },
  {
   "cell_type": "code",
   "execution_count": 94,
   "metadata": {},
   "outputs": [
    {
     "data": {
      "text/plain": [
       "array([[0.09738843],\n",
       "       [0.09729831],\n",
       "       [0.09738013],\n",
       "       [0.09728645],\n",
       "       [0.09728527],\n",
       "       [0.09722124],\n",
       "       [0.09728527],\n",
       "       [0.09728645],\n",
       "       [0.0973244 ],\n",
       "       [0.09736353],\n",
       "       [0.09743112],\n",
       "       [0.09750938],\n",
       "       [0.09750938],\n",
       "       [0.09757341],\n",
       "       [0.0975746 ],\n",
       "       [0.09765761],\n",
       "       [0.09765642],\n",
       "       [0.09756156],\n",
       "       [0.09774298],\n",
       "       [0.09768488],\n",
       "       [0.09771927],\n",
       "       [0.09774417],\n",
       "       [0.09773112],\n",
       "       [0.09767895],\n",
       "       [0.09767895],\n",
       "       [0.09765286],\n",
       "       [0.09757105],\n",
       "       [0.09762559],\n",
       "       [0.09775603],\n",
       "       [0.09780464],\n",
       "       [0.09787816],\n",
       "       [0.09783547],\n",
       "       [0.09781532],\n",
       "       [0.09776433],\n",
       "       [0.09781887],\n",
       "       [0.0977667 ],\n",
       "       [0.09776433],\n",
       "       [0.09773231],\n",
       "       [0.09771333],\n",
       "       [0.0977667 ],\n",
       "       [0.0977667 ],\n",
       "       [0.0977667 ],\n",
       "       [0.09776195],\n",
       "       [0.09764338],\n",
       "       [0.09776195],\n",
       "       [0.09773468],\n",
       "       [0.09773705],\n",
       "       [0.09773586],\n",
       "       [0.09770622],\n",
       "       [0.09771571],\n",
       "       [0.09771452],\n",
       "       [0.09762677],\n",
       "       [0.09766591],\n",
       "       [0.09764219],\n",
       "       [0.09753784],\n",
       "       [0.09764219],\n",
       "       [0.0975331 ],\n",
       "       [0.09736235],\n",
       "       [0.09726274],\n",
       "       [0.09728408]])"
      ]
     },
     "execution_count": 94,
     "metadata": {},
     "output_type": "execute_result"
    }
   ],
   "source": []
  },
  {
   "cell_type": "code",
   "execution_count": null,
   "metadata": {},
   "outputs": [],
   "source": []
  }
 ],
 "metadata": {
  "kernelspec": {
   "display_name": "Python 3",
   "language": "python",
   "name": "python3"
  },
  "language_info": {
   "codemirror_mode": {
    "name": "ipython",
    "version": 3
   },
   "file_extension": ".py",
   "mimetype": "text/x-python",
   "name": "python",
   "nbconvert_exporter": "python",
   "pygments_lexer": "ipython3",
   "version": "3.7.4"
  }
 },
 "nbformat": 4,
 "nbformat_minor": 2
}
